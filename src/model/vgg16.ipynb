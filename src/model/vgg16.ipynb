{
 "cells": [
  {
   "cell_type": "markdown",
   "metadata": {},
   "source": [
    "# 0.导包、导数据"
   ]
  },
  {
   "cell_type": "code",
   "execution_count": 1,
   "metadata": {},
   "outputs": [],
   "source": [
    "import tensorflow as tf\n",
    "import model.vgg16_structure as vgg"
   ]
  },
  {
   "cell_type": "markdown",
   "metadata": {},
   "source": [
    "# 1.网络参数"
   ]
  },
  {
   "cell_type": "code",
   "execution_count": 2,
   "metadata": {},
   "outputs": [],
   "source": [
    "\"\"\"\n",
    "size-format:\n",
    "             [ [      convolution_kernel     ], [   bias   ] ]\n",
    "             [ [ f_h, f_w, in_size, out_size ], [ out_size ] ]\n",
    "\"\"\"\n",
    "structure = {\n",
    "\n",
    "    # convolution layer 1\n",
    "    'conv1_1': [[3, 3, 3, 64], [64]],\n",
    "    'conv1_2': [[3, 3, 64, 64], [64]],\n",
    "\n",
    "    # convolution layer 2\n",
    "    'conv2_1': [[3, 3, 64, 128], [128]],\n",
    "    'conv2_2': [[3, 3, 128, 128], [128]],\n",
    "\n",
    "    # convolution layer 3\n",
    "    'conv3_1': [[3, 3, 128, 256], [256]],\n",
    "    'conv3_2': [[3, 3, 256, 256], [256]],\n",
    "    'conv3_3': [[3, 3, 256, 256], [256]],\n",
    "\n",
    "    # convolution layer 4\n",
    "    'conv4_1': [[3, 3, 256, 512], [512]],\n",
    "    'conv4_2': [[3, 3, 512, 512], [512]],\n",
    "    'conv4_3': [[3, 3, 512, 512], [512]],\n",
    "\n",
    "    # convolution layer 5\n",
    "    'conv5_1': [[3, 3, 512, 512], [512]],\n",
    "    'conv5_2': [[3, 3, 512, 512], [512]],\n",
    "    'conv5_3': [[3, 3, 512, 512], [512]],\n",
    "\n",
    "    # fully-connection 6\n",
    "    'fc6': [[4096, 0, 0, 0], [4096]],\n",
    "\n",
    "    # fully-connection 7\n",
    "    'fc7': [[4096, 0, 0, 0], [4096]],\n",
    "\n",
    "    # fully-connection 8\n",
    "    'fc8': [[1000, 0, 0, 0], [1000]],\n",
    "\n",
    "    # for cifar\n",
    "    'cifar': [[512, 0, 0, 0], [512]],\n",
    "}\n",
    "\n",
    "# kernel_size is constant, so defined here\n",
    "ksize = [1, 2, 2, 1,]\n",
    "\n",
    "# convolution-layer-strides is already below\n",
    "conv_strides = [1, 1, 1, 1,]\n",
    "\n",
    "# pooling-layer-strides is already below\n",
    "pool_strides = [1, 2, 2, 1,]"
   ]
  },
  {
   "cell_type": "markdown",
   "metadata": {},
   "source": [
    "# 2.网络结构"
   ]
  },
  {
   "cell_type": "code",
   "execution_count": null,
   "metadata": {},
   "outputs": [],
   "source": [
    "class Vgg16:\n",
    "    def __init__(self):\n",
    "        pass\n",
    "    def build(self,input,is_training = True):\n",
    "        self.conv1_1 = self.conv(input,'conv1_1')\n",
    "        self.conv1_2 = self.conv(self.conv1_1,'conv1_2')\n",
    "        self.pool1 = self.pool(self.conv1_2, 'pool1')\n",
    "        \n",
    "        self.conv2_1 = self.conv(self.pool1,'conv2_1')\n",
    "        self.conv2_2 = self.conv(self.conv2_1,'conv2_2')\n",
    "        self.pool2 = self.pool(self.conv2_2,'pool2')\n",
    "        \n",
    "        self.conv3_1 = self.conv(self.pool2,'conv3_1')\n",
    "        self.conv3_2 = self.conv(self.conv3_1,'conv3_2')\n",
    "        self.conv3_3 = self.conv(self.conv3_2,'conv3_3')\n",
    "        self.pool3 = self.pool(self.conv3_3,'pool3')\n",
    "        \n",
    "        self.conv4_1 = self.conv(self.pool3,'conv4_1')\n",
    "        self.conv4_2 = self.conv(self.conv4_1,'conv4_2')\n",
    "        self.conv4_3 = self.conv(self.conv4_2,,'conv4_3')\n",
    "        self.pool4 = self.pool(self.conv4_3,'pool4')\n",
    "        \n",
    "        self.conv5_1 = self.conv(self.pool4,'conv5_1')\n",
    "        self.conv5_2 = self.conv(self.conv5_1,'conv5_2')\n",
    "        self.conv5_3 = self.conv(self.conv5_2,'conv5_3')\n",
    "        self.pool5 = self.pool(self.conv5_3,'pool5')\n",
    "        \n",
    "        self.fc1 = self.fc()\n",
    "        self.fc2 = self.fc()\n",
    "        self.fc3 = self.fc()\n",
    "        \n",
    "        return self.fc3\n",
    "    \n",
    "    def conv(input,name):\n",
    "        print('Current input size in convolution layer is: '+str(input.get_shape().as_list()))\n",
    "        with tf.variable_scope(name):\n",
    "            size = structure[name]\n",
    "            \n",
    "            kernel = self.get_weight(size[0],name = 'w_' + name)\n",
    "            bias = self.get_bias(size[1],name = 'b_' + name)\n",
    "            \n",
    "            conv = tf.nn.conv2d(input,kernel,strides = conv_strides,padding = 'SAME',name = name)\n",
    "            out = tf.nn.relu(tf.add(conv,bias))\n",
    "        return self.batch_normalization(out)\n",
    "    \n",
    "    def pool(self,input,name):\n",
    "        return tf.nn.max_pool(input,ksize = ksize,strides = pool_strides, padding='SAME', name=name)\n",
    "    \n",
    "    def fully_connection(self, input, name):\n",
    "        size = structure[name]\n",
    "        \n",
    "        with tf.variable_scope(name):\n",
    "            shape = input.get_shape().as_list()\n",
    "            dim = reduce(lambda x,y:x * y,shape[1:])\n",
    "            x = tf.reshape(input,[-1,dim])\n",
    "            \n",
    "            weights = self.get_weight([dim, size[0][0]], name=name)\n",
    "            biases = self.get_bias(size[1], name=name)\n",
    "            \n",
    "            tf.nn.relu(tf.nn.bias_add(tf.matmul(x,weights),bias))"
   ]
  },
  {
   "cell_type": "markdown",
   "metadata": {},
   "source": [
    "# 3.训练"
   ]
  },
  {
   "cell_type": "code",
   "execution_count": null,
   "metadata": {},
   "outputs": [],
   "source": [
    "sess = tf.Session()\n",
    "sess.run(tf.global_variables_initializer())"
   ]
  }
 ],
 "metadata": {
  "kernelspec": {
   "display_name": "Python 3",
   "language": "python",
   "name": "python3"
  },
  "language_info": {
   "codemirror_mode": {
    "name": "ipython",
    "version": 3
   },
   "file_extension": ".py",
   "mimetype": "text/x-python",
   "name": "python",
   "nbconvert_exporter": "python",
   "pygments_lexer": "ipython3",
   "version": "3.5.2"
  }
 },
 "nbformat": 4,
 "nbformat_minor": 2
}
